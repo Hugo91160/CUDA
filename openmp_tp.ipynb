{
 "cells": [
  {
   "cell_type": "markdown",
   "metadata": {},
   "source": [
    "# TP CUDA - October 2022\n",
    "## Part 1 : Pi\n",
    "### Compilation"
   ]
  },
  {
   "cell_type": "code",
   "execution_count": 29,
   "metadata": {},
   "outputs": [],
   "source": [
    "!nvcc -o tp_openmp_part_1_pi_basic tp_openmp_part_1_pi_basic.cu\n",
    "!nvcc -o tp_openmp_part_1_pi_reduction tp_openmp_part_1_pi_reduction.cu"
   ]
  },
  {
   "cell_type": "markdown",
   "metadata": {},
   "source": [
    "### Performance evaluation"
   ]
  },
  {
   "cell_type": "code",
   "execution_count": 32,
   "metadata": {},
   "outputs": [],
   "source": [
    "import os\n",
    "import subprocess\n",
    "\n",
    "try:\n",
    "    os.remove(\"pi_stats.csv\")\n",
    "except OSError:\n",
    "    pass\n",
    "\n",
    "num_steps = [100000, 1000000, 100000000]#, 1000000000000]\n",
    "num_blocks = [4, 16, 64]\n",
    "num_threads = [4, 16, 64]\n",
    "repeats = range(0,10)\n",
    "\n",
    "for nsteps in num_steps:\n",
    "    for nblocks in num_blocks:\n",
    "        for nthreads in num_threads:\n",
    "            for repeat in repeats:\n",
    "                args = (\"./tp_openmp_part_1_pi_basic\", \"-B\", str(nblocks), \"-T\", str(nthreads), \"-N\", str(nsteps))\n",
    "                popen = subprocess.Popen(args, stdout=subprocess.PIPE)\n",
    "                popen.wait()\n",
    "\n",
    "                args = (\"./tp_openmp_part_1_pi_reduction\", \"-B\", str(nblocks), \"-T\", str(nthreads), \"-N\", str(nsteps))\n",
    "                popen = subprocess.Popen(args, stdout=subprocess.PIPE)\n",
    "                popen.wait()\n",
    "\n"
   ]
  },
  {
   "cell_type": "markdown",
   "metadata": {},
   "source": [
    "### Performance analysis\n",
    "#### Weak scaling"
   ]
  },
  {
   "cell_type": "code",
   "execution_count": 35,
   "metadata": {},
   "outputs": [
    {
     "data": {
      "image/png": "[encoded data removed]",
      "text/plain": [
       "<Figure size 432x288 with 1 Axes>"
      ]
     },
     "metadata": {
      "needs_background": "light"
     },
     "output_type": "display_data"
    }
   ],
   "source": [
    "import matplotlib.pyplot as plt\n",
    "import numpy as np\n",
    "from numpy import genfromtxt\n",
    "\n",
    "import pandas as pd\n",
    "\n",
    "import warnings\n",
    "warnings.filterwarnings('ignore')\n",
    "\n",
    "df = pd.read_csv('pi_stats.csv',header=None,names=['version', 'num_blocks', 'num_threads' ,'num_steps','runtime'],dtype={\n",
    "                     'version': str,\n",
    "                     'num_blocks': int,\n",
    "                     'num_threads': int,\n",
    "                     'num_steps' : int,\n",
    "                     'runtime' : float\n",
    "                 })\n",
    "\n",
    "\n",
    "color_num_steps = {1000000 : \"blue\", 100000000 : \"red\", 10000000000 : \"green\"}\n",
    "linestyle_version = {\"basic\" : \"solid\", \"reduction\" : \"dashed\"}\n",
    "\n",
    "for num_steps in color_num_steps:\n",
    "    for version in linestyle_version:\n",
    "\n",
    "        df_plot = df[(df['num_steps'] == num_steps) & (df['version'] == version)]\n",
    "        mean_stats = df_plot.groupby(['version', 'num_blocks', 'num_threads', 'num_steps']).mean().reset_index()\n",
    "\n",
    "        plt.plot(mean_stats['num_blocks'], mean_stats['runtime'],linestyle=linestyle_version[version],color=color_num_steps[num_steps], label=version+\" - \"+str(num_steps))\n",
    "        plt.yscale('log')\n",
    "        plt.xscale('log')\n",
    "        plt.scatter(df_plot['num_blocks'], df_plot['runtime'],color=color_num_steps[num_steps])\n",
    "\n",
    "\n",
    "\n",
    "plt.legend()\n",
    "plt.show()"
   ]
  },
  {
   "cell_type": "markdown",
   "metadata": {},
   "source": [
    "#### Strong Scaling"
   ]
  },
  {
   "cell_type": "code",
   "execution_count": null,
   "metadata": {},
   "outputs": [],
   "source": []
  },
  {
   "cell_type": "markdown",
   "metadata": {},
   "source": [
    "### Discussion"
   ]
  }
 ],
 "metadata": {
  "kernelspec": {
   "display_name": "Python 3",
   "language": "python",
   "name": "python3"
  },
  "language_info": {
   "codemirror_mode": {
    "name": "ipython",
    "version": 3
   },
   "file_extension": ".py",
   "mimetype": "text/x-python",
   "name": "python",
   "nbconvert_exporter": "python",
   "pygments_lexer": "ipython3",
   "version": "3.7.3"
  },
  "orig_nbformat": 4,
  "vscode": {
   "interpreter": {
    "hash": "31f2aee4e71d21fbe5cf8b01ff0e069b9275f58929596ceb00d14d90e3e16cd6"
   }
  }
 },
 "nbformat": 4,
 "nbformat_minor": 2
}
